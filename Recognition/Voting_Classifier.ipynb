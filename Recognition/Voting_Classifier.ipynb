{
 "cells": [
  {
   "cell_type": "code",
   "execution_count": 12,
   "metadata": {},
   "outputs": [],
   "source": [
    "from scipy.io import wavfile\n",
    "from scipy.signal import spectrogram\n",
    "import numpy as np\n",
    "import librosa.display\n",
    "import pandas as pd\n",
    "import matplotlib.pyplot as plt\n",
    "from librosa.feature import mfcc\n",
    "import librosa\n",
    "import soundfile as sf"
   ]
  },
  {
   "cell_type": "code",
   "execution_count": 13,
   "metadata": {},
   "outputs": [],
   "source": [
    "class GenreRecognizer:\n",
    "    def __init__(self, audio_nn_path,cnn_path):\n",
    "        # self.nn=\n",
    "        self.cnn=self.create_model(cnn_path)\n",
    "        self.nn=self.create_model(audio_nn_path)\n",
    "        pass\n",
    "    def create_model(self,model_path):\n",
    "        return tf.keras.models.load_model(model_path)\n",
    "    \n",
    "    def preprocess_input(self,audio_file_path):\n",
    "        samplerate, audio=wavfile.read(audio_file_path)\n",
    "        mfcc_features=self.convert_to_mfcc(audio)\n",
    "        \n",
    "    \n",
    "    def convert_to_mfcc(self,data):\n",
    "        if len(data.shape)==2:\n",
    "            data=np.mean(data,axis=1)\n",
    "        start=data.shape[0]//3\n",
    "        stop=start+data.shape[0]//3\n",
    "        data=data[start:stop]\n",
    "        features=mfcc(y=data.astype(\"float\"),n_mfcc=39).T\n",
    "        return np.mean(features,axis=0)\n",
    "    \n",
    "    def create_spectrogram(self,data,samplerate):\n",
    "        D = np.abs(librosa.stft(data, n_fft=2048, hop_length=512))\n",
    "        print('Shape of D object:', np.shape(D))\n",
    "\n",
    "        # Convert amplitude spectrogram to Decibels-scaled spectrogram.\n",
    "\n",
    "        DB = librosa.amplitude_to_db(D, ref = np.max)\n",
    "\n",
    "        # Creating the spectogram.\n",
    "\n",
    "        plt.figure(figsize = (16, 6))\n",
    "        librosa.display.specshow(DB, sr=samplerate, hop_length=512,\n",
    "                                x_axis='time', y_axis='log')\n",
    "        plt.colorbar()\n",
    "        plt.title('Decibels-scaled spectrogram', fontsize=20)\n",
    "        plt.show()"
   ]
  },
  {
   "cell_type": "code",
   "execution_count": null,
   "metadata": {},
   "outputs": [],
   "source": []
  }
 ],
 "metadata": {
  "kernelspec": {
   "display_name": "Python 3.9.12 ('Shazam')",
   "language": "python",
   "name": "python3"
  },
  "language_info": {
   "codemirror_mode": {
    "name": "ipython",
    "version": 3
   },
   "file_extension": ".py",
   "mimetype": "text/x-python",
   "name": "python",
   "nbconvert_exporter": "python",
   "pygments_lexer": "ipython3",
   "version": "3.9.12"
  },
  "orig_nbformat": 4,
  "vscode": {
   "interpreter": {
    "hash": "56cfed656bb0a50d10887038fc39bc5a555c881016c84feffe0194cbec7f2e45"
   }
  }
 },
 "nbformat": 4,
 "nbformat_minor": 2
}
